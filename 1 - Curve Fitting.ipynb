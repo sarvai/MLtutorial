{
 "cells": [
  {
   "cell_type": "code",
   "execution_count": 1,
   "metadata": {
    "collapsed": true,
    "deletable": true,
    "editable": true
   },
   "outputs": [],
   "source": [
    "%matplotlib inline\n",
    "from matplotlib import pyplot as pp\n",
    "import numpy as np"
   ]
  },
  {
   "cell_type": "markdown",
   "metadata": {
    "deletable": true,
    "editable": true
   },
   "source": [
    "# Introduction"
   ]
  },
  {
   "cell_type": "markdown",
   "metadata": {
    "deletable": true,
    "editable": true
   },
   "source": [
    "Let's assume that we are given the function $f(\\mathbf{x}) : \\mathbb{R}^M \\rightarrow \\mathbb{R}$. At each point $\\mathbf{x}$ this function produces the value $y = f(\\mathbf{x})$. Due to real world circumstances, this assignment is usually noisy, meaning that for a point $\\mathbf{x}$ rather than measuring $y$, we obtain a slightly misplaced value $\\hat{y}$ calculated as\n",
    "\\begin{equation}\n",
    "    \\hat{y} = f(\\mathbf{x}) + \\mathcal{N}(0,\\sigma^2).\n",
    "\\end{equation}\n",
    "Here $\\mathcal{N}(0,\\sigma^2)$, is the normal distribution with mean $0$ and standard deviation $\\sigma^2$. Here we will refere to each $(\\mathbf{x},\\hat{y})$ as a data point. This term is referred as Gaussian noise. Now given a set of data points $\\{(\\mathbf{x}_n,\\hat{y}_n)\\}_{n=1}^{N}$, our goal is to find a function $g(\\mathbf{x}) : \\mathbb{R}^M \\rightarrow \\mathbb{R}$ that approximates $f$ as close as possible. In other words, we would like to find the function $g$ such that\n",
    "\\begin{equation}\n",
    "    \\| g(\\mathbf{x}) - f(\\mathbf{x}) \\|^2\n",
    "\\end{equation}\n",
    "is minimized."
   ]
  },
  {
   "cell_type": "code",
   "execution_count": 2,
   "metadata": {
    "collapsed": false,
    "deletable": true,
    "editable": true
   },
   "outputs": [],
   "source": [
    "# This class contains the dataset\n",
    "\n",
    "class dataset:\n",
    "    def _build_dataset( self ):\n",
    "        self._content = []\n",
    "        for i in range( self.N ):\n",
    "            x = np.random.uniform( self.I0, self.I1 )\n",
    "            y = self.func( x )\n",
    "            y_n = y + np.random.normal( 0, self.noise_std )\n",
    "            self._content.append( [ x,y,y_n ] )\n",
    "        self._content = np.array( self._content )\n",
    "        \n",
    "    def _build_dataset_dense( self ):\n",
    "        x = np.arange( self.I0, self.I1, ( self.I1 - self.I0 )/(self.N_dense+1) )\n",
    "        y = self.func( x )\n",
    "        \n",
    "        arr = np.array( [ x, y ] )\n",
    "        self._content_dense = arr.transpose()\n",
    "            \n",
    "        \n",
    "    def __init__( self ):\n",
    "        self.func = np.sin\n",
    "        self.N = 20\n",
    "        self.N_dense = 100\n",
    "        self.noise_std = 0.2\n",
    "        \n",
    "        self.I0 = -1*np.pi\n",
    "        self.I1 = np.pi\n",
    "        \n",
    "        self._build_dataset()\n",
    "        self._build_dataset_dense()\n",
    "        \n",
    "    @property\n",
    "    def x( self ):\n",
    "        return self._content[:,0].ravel()\n",
    "    \n",
    "    @property\n",
    "    def y( self ):\n",
    "        return self._content[:,1].ravel()\n",
    "    \n",
    "    @property\n",
    "    def y_n( self ):\n",
    "        return self._content[:,2].ravel()\n",
    "    \n",
    "    @property\n",
    "    def x_dense( self ):\n",
    "        return self._content_dense[:,0].ravel()\n",
    "    \n",
    "    @property\n",
    "    def y_dense( self ):\n",
    "        return self._content_dense[:,1].ravel()\n",
    "        \n",
    "dset = dataset()"
   ]
  },
  {
   "cell_type": "markdown",
   "metadata": {
    "deletable": true,
    "editable": true
   },
   "source": [
    "# Sinus Curve"
   ]
  },
  {
   "cell_type": "markdown",
   "metadata": {
    "deletable": true,
    "editable": true
   },
   "source": [
    "Let $f(x) = \\sin(x)$ for the values in the interval $[-\\pi,\\pi]$. The goal of this section is to reproduce the red data points given the blue plot data points. To achieve this goal we will be looking at two different ways of modeling the data."
   ]
  },
  {
   "cell_type": "code",
   "execution_count": 3,
   "metadata": {
    "collapsed": false,
    "deletable": true,
    "editable": true
   },
   "outputs": [
    {
     "data": {
      "image/png": "[encoded data removed]",
      "text/plain": [
       "<matplotlib.figure.Figure at 0x10afc9978>"
      ]
     },
     "metadata": {},
     "output_type": "display_data"
    }
   ],
   "source": [
    "pp.plot( dset.x_dense, dset.y_dense,'k-.', label='Actual Curve' )\n",
    "pp.plot( dset.x, dset.y, 'r.', label='Actual Values')\n",
    "pp.plot( dset.x, dset.y_n, 'b.', label='Noisy Values')\n",
    "pp.legend()\n",
    "pp.grid()"
   ]
  },
  {
   "cell_type": "markdown",
   "metadata": {
    "deletable": true,
    "editable": true
   },
   "source": [
    "## Polynomial Curve-Fitting"
   ]
  },
  {
   "cell_type": "markdown",
   "metadata": {
    "deletable": true,
    "editable": true
   },
   "source": [
    "We can assume that $g$ belongs to the class of polynomial functions of the degree $D$. This gives $g$ the form of\n",
    "\\begin{equation}\n",
    "    g(x) = \\sum_{d=0}^{D} a_d x^d.\n",
    "\\end{equation}\n",
    "To find $g$ we have to determine that values of $a_0, \\dots, a_D$. For each $x_n$ we have the following equation\n",
    "\\begin{equation}\n",
    "    \\sum_{d=0}^{D} a_d x_n^d = \\hat{y}_n,\n",
    "\\end{equation}\n",
    "and this yields to a system of linear equations from which values of $a_0, \\dots, a_D$ can be calculated. We assume that this system has the form of $Xa=Y$ and the matrices $X \\in \\mathbb{R}^{(N,D)}$ and $Y\\in \\mathbb{R}^{(N,1)}$ as calculated as following :"
   ]
  },
  {
   "cell_type": "code",
   "execution_count": 4,
   "metadata": {
    "collapsed": false,
    "deletable": true,
    "editable": true
   },
   "outputs": [],
   "source": [
    "D = 5\n",
    "\n",
    "X = np.zeros((dset.N,D+1))\n",
    "Y = np.zeros((dset.N,1))\n",
    "\n",
    "for i in range( dset.N ):\n",
    "    Y[i,0] = dset.y_n[i]\n",
    "    for d in range( D+1 ):\n",
    "        X[i,d] = dset.x[i] ** d\n",
    "        \n",
    "X = np.matrix( X )\n",
    "Y = np.matrix( Y )"
   ]
  },
  {
   "cell_type": "markdown",
   "metadata": {
    "deletable": true,
    "editable": true
   },
   "source": [
    "One solution to this system is obtained by $a = (X^TX)^{-1}X^{T}Y$."
   ]
  },
  {
   "cell_type": "code",
   "execution_count": 5,
   "metadata": {
    "collapsed": false,
    "deletable": true,
    "editable": true
   },
   "outputs": [
    {
     "name": "stdout",
     "output_type": "stream",
     "text": [
      "[-0.00933626  1.0647227  -0.04343132 -0.17778385  0.00544987  0.00821083]\n"
     ]
    }
   ],
   "source": [
    "a = np.linalg.inv( X.T * X ) * X.T * Y\n",
    "a = np.array( a )\n",
    "a = a.ravel()\n",
    "print( a )"
   ]
  },
  {
   "cell_type": "markdown",
   "metadata": {
    "deletable": true,
    "editable": true
   },
   "source": [
    "Now given $a$ for every $x$ we can calculate the value of $g(x)$. We will do so for the values of x_dense."
   ]
  },
  {
   "cell_type": "code",
   "execution_count": 6,
   "metadata": {
    "collapsed": false,
    "deletable": true,
    "editable": true
   },
   "outputs": [
    {
     "data": {
      "image/png": "[encoded data removed]",
      "text/plain": [
       "<matplotlib.figure.Figure at 0x10b0ea4e0>"
      ]
     },
     "metadata": {},
     "output_type": "display_data"
    }
   ],
   "source": [
    "def g(x,D,a) :\n",
    "    o = 0.0\n",
    "    for d in range(D+1):\n",
    "        o += a[d] * x ** d\n",
    "    return o\n",
    "\n",
    "y_pred = []\n",
    "for p in dset.x_dense :\n",
    "    y_pred.append( g(p,D,a) )\n",
    "y_pred = np.array( y_pred )\n",
    "\n",
    "pp.plot( dset.x_dense,dset.y_dense,'k-.', label='Actual Curve' )\n",
    "pp.plot( dset.x_dense, y_pred, 'r-.', label='Predicted Values')\n",
    "pp.legend()\n",
    "pp.grid()"
   ]
  },
  {
   "cell_type": "markdown",
   "metadata": {
    "deletable": true,
    "editable": true
   },
   "source": [
    "### Questions\n",
    "\n",
    "1. How does changing $N$ and $D$ change the shape of the predicted curve?\n",
    "2. Can we do this for some other functions? Lienar/Non-linear\n",
    "3. How else can we obtain $a$?\n",
    "4. How can we measure the error of this prediction?"
   ]
  },
  {
   "cell_type": "markdown",
   "metadata": {
    "deletable": true,
    "editable": true
   },
   "source": [
    "## Radial Basis Function Kernel Curve Fitting (RBF Kernel)"
   ]
  },
  {
   "cell_type": "markdown",
   "metadata": {
    "deletable": true,
    "editable": true
   },
   "source": [
    "Similar to polynomial curve fitting, our goal here to obtain the parameters of the predicted curve by solving a system of linear equations. Here, we will solve this problem by placing a basis function at each data point and formulate the predicted curve as a weighted sum of the basis functions. The Radial Basis funciton kernel has the form of \n",
    "\\begin{equation}\n",
    "    k(x,x') = \\exp(- \\frac{\\|x-x'\\|^2}{2\\sigma^2}).\n",
    "\\end{equation}\n",
    "At each point the shape of this kernel is as following :"
   ]
  },
  {
   "cell_type": "code",
   "execution_count": 7,
   "metadata": {
    "collapsed": false,
    "deletable": true,
    "editable": true
   },
   "outputs": [
    {
     "data": {
      "image/png": "[encoded data removed]",
      "text/plain": [
       "<matplotlib.figure.Figure at 0x10b1c3da0>"
      ]
     },
     "metadata": {},
     "output_type": "display_data"
    }
   ],
   "source": [
    "def rbf( x, x_base, sigma2 ):\n",
    "    return np.exp(-1* (( x-x_base )**2) / (2*sigma2) )\n",
    "\n",
    "kernal_sigma2 = 0.5\n",
    "x_base = 0\n",
    "\n",
    "y_rbf = []\n",
    "for x in dset.x_dense :\n",
    "    y_rbf.append( rbf(x, x_base, kernal_sigma2) )\n",
    "    \n",
    "pp.plot( dset.x_dense,y_rbf,'k-.', label='RBF Kernel' )\n",
    "pp.legend()\n",
    "pp.grid()"
   ]
  },
  {
   "cell_type": "markdown",
   "metadata": {
    "deletable": true,
    "editable": true
   },
   "source": [
    "Placing this function at each data point and calculating a weighted sum will give us \n",
    "\\begin{equation}\n",
    "    g(x) = \\sum_{n=1}^{N} a_n k(x,x_n).\n",
    "\\end{equation}\n",
    "This sum again provides us with a system of linear equations with the form a $Ka=Y$ where $K \\in \\mathbb{R}^{(N,N)}$ and $Y \\in \\mathbb{R}^{(N,1)}$ and they are calculated as :"
   ]
  },
  {
   "cell_type": "code",
   "execution_count": 8,
   "metadata": {
    "collapsed": false,
    "deletable": true,
    "editable": true
   },
   "outputs": [],
   "source": [
    "K = np.zeros((dset.N,dset.N))\n",
    "Y = np.zeros((dset.N,1))\n",
    "\n",
    "for i in range( dset.N ):\n",
    "    Y[i,0] = dset.y_n[i]\n",
    "    for j in range( dset.N ):\n",
    "        K[i,j] = rbf( dset.x[i], dset.x[j], kernal_sigma2 )\n",
    "\n",
    "# Regularizer\n",
    "K = K + np.eye(dset.N)\n",
    "        \n",
    "K = np.matrix( K )\n",
    "Y = np.matrix( Y )"
   ]
  },
  {
   "cell_type": "markdown",
   "metadata": {
    "deletable": true,
    "editable": true
   },
   "source": [
    "Similarly, we solve this system as $a = (K^TK)^{-1}K^{T}Y$."
   ]
  },
  {
   "cell_type": "code",
   "execution_count": 9,
   "metadata": {
    "collapsed": false,
    "deletable": true,
    "editable": true
   },
   "outputs": [
    {
     "name": "stdout",
     "output_type": "stream",
     "text": [
      "[ 0.22360265 -0.4208425  -0.12855211 -0.0325646   0.07441013 -0.00932151\n",
      "  0.08161617  0.23760018 -0.33090978 -0.02289759  0.23674976 -0.29165578\n",
      " -0.17067804 -0.01623991  0.41249722 -0.09758318 -0.23785424 -0.13231298\n",
      "  0.28005175  0.21525552]\n"
     ]
    }
   ],
   "source": [
    "a = np.linalg.inv( K.T * K ) * K.T * Y\n",
    "a = np.array( a )\n",
    "a = a.ravel()\n",
    "print( a )"
   ]
  },
  {
   "cell_type": "markdown",
   "metadata": {
    "deletable": true,
    "editable": true
   },
   "source": [
    "Now given $a$ for every $x$ we can calculate the value of $g(x)$. We will do so for the values of x_dense."
   ]
  },
  {
   "cell_type": "code",
   "execution_count": 10,
   "metadata": {
    "collapsed": false,
    "deletable": true,
    "editable": true
   },
   "outputs": [
    {
     "data": {
      "image/png": "[encoded data removed]",
      "text/plain": [
       "<matplotlib.figure.Figure at 0x10b2c0ef0>"
      ]
     },
     "metadata": {},
     "output_type": "display_data"
    }
   ],
   "source": [
    "def g(x,x_basis,a) :\n",
    "    o = 0.0\n",
    "    for d in range(dset.N):\n",
    "        o += a[d] * rbf(x,x_basis[d],kernal_sigma2)\n",
    "    return o\n",
    "\n",
    "y_pred = []\n",
    "for x in dset.x_dense :\n",
    "    y_pred.append( g(x,dset.x,a) )\n",
    "y_pred = np.array( y_pred )\n",
    "\n",
    "pp.plot( dset.x_dense,dset.y_dense,'k-.', label='Actual Curve' )\n",
    "pp.plot( dset.x_dense, y_pred, 'r-.', label='Predicted Values')\n",
    "pp.legend()\n",
    "pp.grid()"
   ]
  },
  {
   "cell_type": "markdown",
   "metadata": {
    "collapsed": true,
    "deletable": true,
    "editable": true
   },
   "source": [
    "### Questions\n",
    "\n",
    "1. How does changing $\\sigma^2$ changes the shape of the predicted curve?\n",
    "2. What other basis functions can we use?\n",
    "3. How can we measure the error of this prediction?"
   ]
  }
 ],
 "metadata": {
  "kernelspec": {
   "display_name": "Python 3",
   "language": "python",
   "name": "python3"
  },
  "language_info": {
   "codemirror_mode": {
    "name": "ipython",
    "version": 3
   },
   "file_extension": ".py",
   "mimetype": "text/x-python",
   "name": "python",
   "nbconvert_exporter": "python",
   "pygments_lexer": "ipython3",
   "version": "3.6.0"
  }
 },
 "nbformat": 4,
 "nbformat_minor": 2
}
